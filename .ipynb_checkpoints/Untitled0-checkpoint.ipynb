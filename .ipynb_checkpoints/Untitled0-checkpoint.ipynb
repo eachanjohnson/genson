{
 "metadata": {
  "name": "",
  "signature": "sha256:42bd67fddd9a112c712268e84b94b338e929eecf9720923dedefee007c92f419"
 },
 "nbformat": 3,
 "nbformat_minor": 0,
 "worksheets": []
}